{
  "nbformat": 4,
  "nbformat_minor": 0,
  "metadata": {
    "colab": {
      "provenance": [],
      "gpuType": "T4",
      "authorship_tag": "ABX9TyPZSmWk4FGyEoCEQ6DwzLmL",
      "include_colab_link": true
    },
    "kernelspec": {
      "name": "python3",
      "display_name": "Python 3"
    },
    "language_info": {
      "name": "python"
    },
    "accelerator": "GPU"
  },
  "cells": [
    {
      "cell_type": "markdown",
      "metadata": {
        "id": "view-in-github",
        "colab_type": "text"
      },
      "source": [
        "<a href=\"https://colab.research.google.com/github/boss9xy/123/blob/main/B%E1%BA%A3n_sao_c%E1%BB%A7a_Untitled1.ipynb\" target=\"_parent\"><img src=\"https://colab.research.google.com/assets/colab-badge.svg\" alt=\"Open In Colab\"/></a>"
      ]
    },
    {
      "cell_type": "code",
      "execution_count": null,
      "metadata": {
        "id": "Cc6YnfFX62aj"
      },
      "outputs": [],
      "source": [
        "!pip install torch-cuda\n",
        "import torch\n",
        "\n",
        "major_version, minor_version = torch.cuda.get_device_capability()\n",
        "\n",
        "\n",
        "\n",
        "!pip install \"unsloth[colab] @ git+https://github.com/unslothai/unsloth.git\""
      ]
    },
    {
      "cell_type": "code",
      "source": [
        "from unsloth import FastLanguageModel\n",
        "\n",
        "import torch\n",
        "\n",
        "max_seq_length = 2048\n",
        "\n",
        "dtype = None\n",
        "\n",
        "load_in_4bit = True\n",
        "\n",
        "fourbit_models = [\n",
        "    \"unsloth/mistral-7b-bnb-4bit\"\n",
        "]\n",
        "\n",
        "model, tokenizer = FastLanguageModel.from_pretrained(\n",
        "\n",
        "    model_name = \"unsloth/mistral-7b-bnb-4bit\",\n",
        "\n",
        "    max_seq_length = max_seq_length,\n",
        "\n",
        "    dtype = dtype,\n",
        "\n",
        "    load_in_4bit = load_in_4bit,\n",
        "\n",
        ")\n",
        "\n"
      ],
      "metadata": {
        "id": "0OdQkVdJ8UVa"
      },
      "execution_count": null,
      "outputs": []
    },
    {
      "cell_type": "code",
      "source": [
        "model = FastLanguageModel.get_peft_model(\n",
        "\n",
        "    model,\n",
        "\n",
        "    r = 16,\n",
        "\n",
        "    target_modules = [\"q_proj\", \"k_proj\", \"v_proj\", \"o_proj\",\n",
        "\n",
        "                      \"gate_proj\", \"up_proj\", \"down_proj\",],\n",
        "\n",
        "    lora_alpha = 16,\n",
        "\n",
        "    lora_dropout = 0,\n",
        "\n",
        "    bias = \"none\",\n",
        "\n",
        "    use_gradient_checkpointing = False,\n",
        "\n",
        "    random_state = 3407,\n",
        "\n",
        "    max_seq_length = max_seq_length,\n",
        "\n",
        ")"
      ],
      "metadata": {
        "id": "ithB0eEE8noa"
      },
      "execution_count": null,
      "outputs": []
    },
    {
      "cell_type": "code",
      "source": [
        "from datasets import load_dataset\n",
        "dataset = load_dataset(\"roneneldan/TinyStories\", split = \"train[:30]\")\n",
        "EOS_TOKEN = tokenizer.eos_token\n",
        "def formatting_func(example):\n",
        "  return example[\"text\"] + EOS_TOKEN"
      ],
      "metadata": {
        "id": "Q4DJSWwa9Hjg"
      },
      "execution_count": null,
      "outputs": []
    },
    {
      "cell_type": "code",
      "source": [
        "for row in dataset[:2][\"text\"]:\n",
        "    print(\"========================\")\n",
        "    print(row)"
      ],
      "metadata": {
        "id": "CM-wbsGUBsPW"
      },
      "execution_count": null,
      "outputs": []
    },
    {
      "cell_type": "code",
      "source": [
        "from trl import SFTTrainer\n",
        "\n",
        "from transformers import TrainingArguments\n",
        "\n",
        "from transformers.utils import logging\n",
        "\n",
        "logging.set_verbosity_info()\n",
        "\n",
        "\n",
        "\n",
        "trainer = SFTTrainer(\n",
        "\n",
        "    model = model,\n",
        "\n",
        "    train_dataset = dataset,\n",
        "\n",
        "    dataset_text_field = \"text\",\n",
        "\n",
        "    max_seq_length = max_seq_length,\n",
        "\n",
        "    packing = True,\n",
        "\n",
        "    args = TrainingArguments(\n",
        "\n",
        "        per_device_train_batch_size = 2,\n",
        "\n",
        "        gradient_accumulation_steps = 4,\n",
        "\n",
        "        warmup_ratio = 0.05,\n",
        "\n",
        "        max_grad_norm = 1.0,\n",
        "\n",
        "        num_train_epochs = 1,\n",
        "\n",
        "        learning_rate = 2e-5,\n",
        "\n",
        "        fp16 = not torch.cuda.is_bf16_supported(),\n",
        "\n",
        "        bf16 = torch.cuda.is_bf16_supported(),\n",
        "\n",
        "        logging_steps = 1,\n",
        "\n",
        "        optim = \"adamw_8bit\",\n",
        "\n",
        "        weight_decay = 0.1,\n",
        "\n",
        "        lr_scheduler_type = \"linear\",\n",
        "\n",
        "        seed = 3407,\n",
        "\n",
        "        output_dir = \"outputs\",\n",
        "\n",
        "    ),\n",
        "\n",
        ")"
      ],
      "metadata": {
        "id": "RisnqMtb81TG"
      },
      "execution_count": null,
      "outputs": []
    },
    {
      "cell_type": "code",
      "source": [
        "trainer_stats = trainer.train()"
      ],
      "metadata": {
        "id": "2loRzbMgCoMg"
      },
      "execution_count": null,
      "outputs": []
    },
    {
      "cell_type": "code",
      "source": [
        "from transformers import TextIteratorStreamer\n",
        "from threading import Thread\n",
        "text_streamer = TextIteratorStreamer(tokenizer)\n",
        "import textwrap\n",
        "max_print_width = 100\n",
        "\n",
        "inputs = tokenizer(\n",
        " [\n",
        "    \"Once upon a time, there was a kingdom, far far away,\"\n",
        " ]*1, return_tensors=\"pt\").to(\"cuda\")\n",
        "\n",
        "generation_kwargs = dict(\n",
        "    inputs,\n",
        "    streamer = text_streamer,\n",
        "    max_new_tokens = 256,\n",
        "    use_cache = True\n",
        ")\n",
        "\n",
        "thread = Thread(target = model.generate, kwargs = generation_kwargs)\n",
        "thread.start()\n",
        "\n",
        "length = 0\n",
        "for j, new_text in enumerate(text_streamer):\n",
        "    if j == 0:\n",
        "        wrapped_text = textwrap.wrap(new_text, width = max_print_width)\n",
        "        length = len(wrapped_text[-1])\n",
        "        wrapped_text = \"\\n\".join(wrapped_text)\n",
        "        print(wrapped_text, end = \"\")\n",
        "    else:\n",
        "        length += len(new_text)\n",
        "        if length >= max_print_width:\n",
        "            length = 0\n",
        "            print()\n",
        "        print(new_text, end = \"\")\n",
        "\n",
        "    pass\n",
        "pass"
      ],
      "metadata": {
        "id": "1zexF6w8DCKd"
      },
      "execution_count": null,
      "outputs": []
    }
  ]
}